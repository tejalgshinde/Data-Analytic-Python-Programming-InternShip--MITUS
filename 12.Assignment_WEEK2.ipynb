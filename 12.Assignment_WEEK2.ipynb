{
 "cells": [
  {
   "cell_type": "markdown",
   "metadata": {},
   "source": [
    "#### Q1. Create a package named ‘cricket’ which will contain modules named batsman and bowler. Create following functions in respective modules. Import the package and call all these functions in your program batsman: findaverage(runs,matches), strikerate(runs,balls) bowler: findavg(runs,wickets), economyrate(overs, runs)"
   ]
  },
  {
   "cell_type": "code",
   "execution_count": null,
   "metadata": {},
   "outputs": [],
   "source": [
    "from cricket import batsman as bt\n",
    "from cricket import bowler as bw\n",
    "print(\"BATSMAN\")\n",
    "print(\"If Runs = 4042 , Outs = 47 Then Batsman's Average = \",bt.findaverage(4042,47))\n",
    "print(\"If Runs = 264 , Balls = 173 Then Batsman's Strikerate = \",bt.strikerate(264,173))\n",
    "print(\"BOWLER\")\n",
    "print(\"If Runs = 3857 , Wickets = 138 Then Bowler's Average = \",bw.findavg(3857,138))\n",
    "print(\"If Overs = 4 , Runs = 36 Then Bowler's Economy Rate = \",bw.economyrate(4,36))"
   ]
  },
  {
   "cell_type": "markdown",
   "metadata": {
    "vscode": {
     "languageId": "plaintext"
    }
   },
   "source": [
    "#### Q.2 Write a Python function to find whether the number if prime or not. def isPrime(num)"
   ]
  },
  {
   "cell_type": "code",
   "execution_count": 7,
   "metadata": {},
   "outputs": [
    {
     "name": "stdout",
     "output_type": "stream",
     "text": [
      "10 is not a prime number\n"
     ]
    }
   ],
   "source": [
    "num = int(input(\"Enter the num:- \"))\n",
    "def isPrime(num):\n",
    "    flag = False\n",
    "    if num > 1:\n",
    "        for i in range(2, num):\n",
    "            if num % i == 0:\n",
    "                flag = True\n",
    "\n",
    "    if flag == True:\n",
    "        print(num, \"is not a prime number\")\n",
    "    else:\n",
    "        print(num, \"is prime number\")\n",
    "\n",
    "isPrime(num)"
   ]
  },
  {
   "cell_type": "markdown",
   "metadata": {},
   "source": [
    "#### Q3.Write a function is_palindrome(string) that takes a string as input and returns True if the string reads the same backward as forward (e.g., \"racecar\" is a palindrome)."
   ]
  },
  {
   "cell_type": "code",
   "execution_count": 3,
   "metadata": {},
   "outputs": [
    {
     "name": "stdout",
     "output_type": "stream",
     "text": [
      "Enter String:-  Alpit\n",
      "Reversed String:-  tiplA\n",
      "Alpit is not a Palindrome\n"
     ]
    }
   ],
   "source": [
    "string = input()\n",
    "print(\"Enter String:- \", string)\n",
    "\n",
    "def is_palindrome(string):\n",
    "    rev = string[::-1]\n",
    "    print(\"Reversed String:- \" , rev)\n",
    "    if string == rev:\n",
    "        print(string , \"is a Palindrome.\")\n",
    "    else:\n",
    "        print(string , \"is not a Palindrome\")\n",
    "\n",
    "is_palindrome(string)"
   ]
  },
  {
   "cell_type": "markdown",
   "metadata": {},
   "source": [
    "#### Q4. Write a function reverse_list(data) that takes a list as input and returns a new list with the elements in reverse order (e.g., reverse_list([1, 2, 3]) returns [3, 2, 1])."
   ]
  },
  {
   "cell_type": "code",
   "execution_count": 3,
   "metadata": {},
   "outputs": [
    {
     "name": "stdout",
     "output_type": "stream",
     "text": [
      "[1000, 900, 800, 700, 600, 500, 400, 300, 200, 100]\n"
     ]
    }
   ],
   "source": [
    "l1 = []\n",
    "for i in range(10):\n",
    "    n = int(input())\n",
    "    l1.append(n)\n",
    "\n",
    "def reverse_list(data):\n",
    "    result = data[::-1]\n",
    "    return result\n",
    "\n",
    "print(reverse_list(l1))"
   ]
  },
  {
   "cell_type": "markdown",
   "metadata": {},
   "source": [
    "#### Q5.Write a function write_file(filename, content) that takes a filename and content as input and writes the content to the specified file."
   ]
  },
  {
   "cell_type": "code",
   "execution_count": 16,
   "metadata": {},
   "outputs": [],
   "source": [
    "# with open('Intro.txt', 'w') as w:\n",
    "    # w.write(\"I am Alpit. I Studing in Ajeenkya DY Patil School of Engineering, and I am working as a intern at MITU Skillologies.\")\n",
    "\n",
    "filename = input()\n",
    "# content = '''\"Python is Easy language\"''' \"I am Alpit. I Studing in Ajeenkya DY Patil School of Engineering, and I am working as a intern at MITU Skillologies.\"\n",
    "content = input()\n",
    "\n",
    "def write_file(filename, content):\n",
    "    with open(filename , 'w') as w:\n",
    "        w.write(content)\n",
    "\n",
    "write_file(filename, content)"
   ]
  },
  {
   "cell_type": "markdown",
   "metadata": {},
   "source": [
    "#### Q6. Write a function copy_file(source_filename, destination_filename) that takes the source and destination filenames as input and copies the content of the source file to the destination file. Handle cases where the source file doesn't exist."
   ]
  },
  {
   "cell_type": "code",
   "execution_count": 4,
   "metadata": {},
   "outputs": [
    {
     "name": "stdout",
     "output_type": "stream",
     "text": [
      "The Source file doesn't exist.\n"
     ]
    }
   ],
   "source": [
    "\n",
    "\n",
    "def copy_file(source_filename, destination_filename):\n",
    "    try:\n",
    "        with open(source_filename, 'r') as d1:\n",
    "            with open(destination_filename, 'w') as d2:\n",
    "                for n in d1:\n",
    "                    d2.write(n)\n",
    "    except FileNotFoundError:\n",
    "        print(\"The Source file doesn't exist.\")\n",
    "    except Exception as e:\n",
    "        print(\"Your Error id:- \", e )\n",
    "    else:\n",
    "        print(\"Your file is copied successfully\")\n",
    "\n",
    "source_filename = input()\n",
    "destination_filename = input()\n",
    "copy_file(source_filename, destination_filename)"
   ]
  },
  {
   "cell_type": "markdown",
   "metadata": {},
   "source": [
    "#### Q7. Implement a function to calculate the dot product of two NumPy arrays.\n"
   ]
  },
  {
   "cell_type": "code",
   "execution_count": 19,
   "metadata": {},
   "outputs": [
    {
     "name": "stdout",
     "output_type": "stream",
     "text": [
      "[[ 1  4  9]\n",
      " [16 25 36]\n",
      " [49 64 81]]\n"
     ]
    }
   ],
   "source": [
    "import numpy as np \n",
    "\n",
    "arr1 = np.array([[1,2,3],[4,5,6],[7,8,9]])\n",
    "arr2 = np.array([[1,2,3],[4,5,6],[7,8,9]])\n",
    "\n",
    "def dot_pr(arr1,arr2):\n",
    "    dp = arr1 * arr2\n",
    "    print(dp)\n",
    "\n",
    "dot_pr(arr1,arr2)\n"
   ]
  },
  {
   "cell_type": "markdown",
   "metadata": {},
   "source": [
    "#### Q8. Implement a GUI with a radio button selection for choosing a favorite color (e.g., red, green, blue). Change the background color of the window based on the selected radio button."
   ]
  },
  {
   "cell_type": "code",
   "execution_count": 4,
   "metadata": {},
   "outputs": [],
   "source": [
    "from tkinter import Tk, Radiobutton, StringVar \n",
    "import tkinter as tk\n",
    "\n",
    "ag = Tk()\n",
    "ag.title(\"Vishay Kholl\")\n",
    "ag.geometry(\"500x500\")\n",
    "l1 = tk.Label(ag, text = \"Select Favorite Color\", font = (\"Aerial Bold\", 15)).pack()\n",
    "def update_color(color):\n",
    "    ag.config(bg=color)\n",
    "colors =  ['Black', 'Blue','Grey','Red','Orange','Brown','Pink','Yellow']\n",
    "selected_color = StringVar()\n",
    "for color in colors:\n",
    "    radio_button = Radiobutton(ag, text = color, variable = selected_color, value = color, command = lambda c=color : update_color(c))\n",
    "    radio_button.pack() \n",
    "\n",
    "update_color(color)\n",
    "ag.mainloop()"
   ]
  },
  {
   "cell_type": "markdown",
   "metadata": {},
   "source": [
    "#### Q9. Design a currency converter GUI. Allow users to enter an amount and select the currencies they want to convert between (e.g., USD, EUR). Display the converted amount in the selected currency."
   ]
  },
  {
   "cell_type": "code",
   "execution_count": 5,
   "metadata": {},
   "outputs": [],
   "source": [
    "from tkinter import  Tk, messagebox, BooleanVar\n",
    "from tkinter.ttk import * \n",
    "import tkinter as tk\n",
    "\n",
    "coc = Tk()\n",
    "coc.title(\"Currency Convertor\")\n",
    "coc.geometry(\"610x610\")\n",
    "l1 = tk.Label(coc, text = \"Corrency Convertor\" , font = (\"Times New Roman\", 15)).pack()\n",
    "\n",
    "a = tk.IntVar()\n",
    "e = tk.Entry(coc, textvariable = a).place(x = 240, y = 70)\n",
    "combo = Combobox(coc)\n",
    "combo['values'] = ['Select the Currencies','USD', 'EUR', 'POUND', 'KWD', 'BHD', 'OMR']\n",
    "combo.current(0)\n",
    "combo.place(x = 230, y = 40)\n",
    "\n",
    "def usd():\n",
    "    a1 = a.get()\n",
    "    convert = a1 * 83\n",
    "    messagebox.showinfo(\"Value Calculated\", \"You have Balance of %i INR\"%convert)\n",
    "\n",
    "coc.mainloop()\n",
    "\n",
    "\n"
   ]
  },
  {
   "cell_type": "code",
   "execution_count": 4,
   "metadata": {},
   "outputs": [],
   "source": [
    "import tkinter as tk\n",
    "from tkinter import messagebox\n",
    "\n",
    "\n",
    "\n",
    "top = tk.Tk()\n",
    "top.title(\"Currency Calculator\")\n",
    "top.geometry(\"700x700\")\n",
    "top.configure(bg = \"cornsilk\")\n",
    "inr = tk.IntVar()\n",
    "#i  = tk.PhotoImage(file = \"\")\n",
    "#bg = tk.Label(top,image = i)\n",
    "#bg.place(relwidth=1, relheight=1)\n",
    "\n",
    "def usd():\n",
    "    a = inr.get()\n",
    "    u = a/83\n",
    "    messagebox.showinfo(\"converter\",\"USD = %i\" %u )\n",
    "def eur():\n",
    "    a = inr.get()\n",
    "    e = a/89\n",
    "    messagebox.showinfo(\"converter\",\"EUR = %i\" %e )\n",
    "def pound():\n",
    "    a = inr.get()\n",
    "    p = a/105\n",
    "    messagebox.showinfo(\"converter\",\"POUND = %i\" %p )\n",
    "def dinar():\n",
    "    a = inr.get()\n",
    "    d = a/272\n",
    "    messagebox.showinfo(\"converter\",\"DINAR = %i\" %d )\n",
    "l = tk.Label(top,text = \"Enter your Amount in INR \",font = \"khand\", bg = \"snow3\").place(x = 250, y = 150)\n",
    "e = tk.Entry(top, textvariable = inr,width = 30).place(x = 270, y = 190)\n",
    "b1 = tk.Button(top,text = \"USD\",width = 20,bg = \"NavajoWhite3\",command = usd).place(x = 290, y = 220)\n",
    "b2 = tk.Button(top,text = \"EUR\",width = 20,bg = \"NavajoWhite3\",command = eur).place(x = 290, y = 250)\n",
    "b3 = tk.Button(top,text = \"POUND\",width = 20,bg = \"NavajoWhite3\",command = pound).place(x = 290, y = 280)\n",
    "b4 = tk.Button(top,text = \"DINAR\",width = 20,bg = \"NavajoWhite3\",command = dinar).place(x = 290, y = 310)\n",
    "top.mainloop()"
   ]
  }
 ],
 "metadata": {
  "kernelspec": {
   "display_name": "Python 3",
   "language": "python",
   "name": "python3"
  },
  "language_info": {
   "codemirror_mode": {
    "name": "ipython",
    "version": 3
   },
   "file_extension": ".py",
   "mimetype": "text/x-python",
   "name": "python",
   "nbconvert_exporter": "python",
   "pygments_lexer": "ipython3",
   "version": "3.11.8"
  }
 },
 "nbformat": 4,
 "nbformat_minor": 2
}
