{
 "cells": [
  {
   "cell_type": "code",
   "execution_count": 1,
   "metadata": {},
   "outputs": [],
   "source": [
    "class Employee():\n",
    "    pass"
   ]
  },
  {
   "cell_type": "code",
   "execution_count": 4,
   "metadata": {},
   "outputs": [
    {
     "name": "stdout",
     "output_type": "stream",
     "text": [
      "<__main__.Employee object at 0x00000248261DDA10>\n",
      "<__main__.Employee object at 0x0000024826194390>\n",
      "<__main__.Employee object at 0x000002482614B410>\n"
     ]
    }
   ],
   "source": [
    "emp1 = Employee()   #Creating instance of the class\n",
    "emp2 = Employee()\n",
    "emp3 = Employee()\n",
    "\n",
    "print(emp1)\n",
    "print(emp2)\n",
    "print(emp3)"
   ]
  },
  {
   "cell_type": "code",
   "execution_count": 10,
   "metadata": {},
   "outputs": [],
   "source": [
    "# Instance Variable \n",
    "\n",
    "emp1.first = \"Alpit\"\n",
    "emp1.last = \"Gadhave\"\n",
    "emp1.Salary = 50000\n",
    "\n",
    "emp2.first = \"Tejal\"\n",
    "emp2.last = \"Shinde\"\n",
    "emp2.Salary = 52000"
   ]
  },
  {
   "cell_type": "code",
   "execution_count": 11,
   "metadata": {},
   "outputs": [
    {
     "name": "stdout",
     "output_type": "stream",
     "text": [
      "Alpit\n",
      "Tejal\n",
      "52000\n"
     ]
    }
   ],
   "source": [
    "print(emp1.first)\n",
    "print(emp2.first)\n",
    "print(emp2.Salary)"
   ]
  },
  {
   "cell_type": "code",
   "execution_count": 27,
   "metadata": {},
   "outputs": [],
   "source": [
    "class Employee():\n",
    "    def __init__ (self, first, last, Salary):\n",
    "        self.first = first\n",
    "        self.last = last \n",
    "        self.Salary = Salary\n",
    "\n",
    "    def show(self):\n",
    "        print(self.first + ' ' + 'Okk')\n"
   ]
  },
  {
   "cell_type": "code",
   "execution_count": 30,
   "metadata": {},
   "outputs": [
    {
     "name": "stdout",
     "output_type": "stream",
     "text": [
      "Alpit\n",
      "Tejas\n"
     ]
    }
   ],
   "source": [
    "emp1 = Employee('Alpit','Gadhave', 60000)\n",
    "emp2 = Employee('Tejas','Akare',80000)\n",
    "emp3 = Employee('Karan','Pardeshi',70000)\n",
    "emp4 = Employee('Aryan','Jadhav',60000)\n",
    "emp5 = Employee('Tanya','Vadhav',40000)\n",
    "emp6 = Employee('Tejyo','Shinde',45000)\n",
    "\n",
    "print(emp1.first)\n",
    "print(emp2.first)"
   ]
  },
  {
   "cell_type": "code",
   "execution_count": 31,
   "metadata": {},
   "outputs": [
    {
     "name": "stdout",
     "output_type": "stream",
     "text": [
      "Alpit Okk\n"
     ]
    }
   ],
   "source": [
    "emp1.show()"
   ]
  },
  {
   "cell_type": "code",
   "execution_count": 32,
   "metadata": {},
   "outputs": [
    {
     "name": "stdout",
     "output_type": "stream",
     "text": [
      "Tejas Okk\n"
     ]
    }
   ],
   "source": [
    "emp2.show()"
   ]
  },
  {
   "cell_type": "markdown",
   "metadata": {},
   "source": [
    "## Encapsulation"
   ]
  },
  {
   "cell_type": "code",
   "execution_count": 56,
   "metadata": {},
   "outputs": [],
   "source": [
    "class Employee1():\n",
    "    def __init__ (self, first, last, Salary):\n",
    "        self.first = first\n",
    "        self.last = last \n",
    "        self.__Salary = Salary\n",
    "\n",
    "    def show(self):\n",
    "        print(self.first + ' ' + 'Okk')\n",
    "\n",
    "    def show(self):\n",
    "        print(self.__Salary)"
   ]
  },
  {
   "cell_type": "code",
   "execution_count": 57,
   "metadata": {},
   "outputs": [
    {
     "name": "stdout",
     "output_type": "stream",
     "text": [
      "Alpit\n",
      "Tejas\n"
     ]
    }
   ],
   "source": [
    "emp1 = Employee1('Alpit','Gadhave', 60000)\n",
    "emp2 = Employee1('Tejas','Akare',80000)\n",
    "emp3 = Employee1('Karan','Pardeshi',70000)\n",
    "emp4 = Employee1('Aryan','Jadhav',60000)\n",
    "emp5 = Employee1('Tanya','Vadhav',40000)\n",
    "emp6 = Employee1('Tejyo','Shinde',45000)\n",
    "\n",
    "print(emp1.first)\n",
    "\n",
    "print(emp2.first)"
   ]
  },
  {
   "cell_type": "code",
   "execution_count": 59,
   "metadata": {},
   "outputs": [
    {
     "ename": "AttributeError",
     "evalue": "'Employee1' object has no attribute '__Salary'",
     "output_type": "error",
     "traceback": [
      "\u001b[1;31m---------------------------------------------------------------------------\u001b[0m",
      "\u001b[1;31mAttributeError\u001b[0m                            Traceback (most recent call last)",
      "Cell \u001b[1;32mIn[59], line 1\u001b[0m\n\u001b[1;32m----> 1\u001b[0m \u001b[43memp4\u001b[49m\u001b[38;5;241;43m.\u001b[39;49m\u001b[43m__Salary\u001b[49m()\n",
      "\u001b[1;31mAttributeError\u001b[0m: 'Employee1' object has no attribute '__Salary'"
     ]
    }
   ],
   "source": [
    "emp4.__Salary()"
   ]
  },
  {
   "cell_type": "code",
   "execution_count": 60,
   "metadata": {},
   "outputs": [
    {
     "name": "stdout",
     "output_type": "stream",
     "text": [
      "60000\n"
     ]
    }
   ],
   "source": [
    "emp4.show()"
   ]
  },
  {
   "cell_type": "markdown",
   "metadata": {},
   "source": [
    "## Inheritence\n"
   ]
  },
  {
   "cell_type": "code",
   "execution_count": 61,
   "metadata": {},
   "outputs": [],
   "source": [
    "class Emp2(Employee1):\n",
    "    pass\n"
   ]
  },
  {
   "cell_type": "code",
   "execution_count": 63,
   "metadata": {},
   "outputs": [
    {
     "name": "stdout",
     "output_type": "stream",
     "text": [
      "54655584\n"
     ]
    }
   ],
   "source": [
    "emp9 = Emp2('Euuu','Euuuuu', 54655584)\n",
    "\n",
    "emp9.show()\n"
   ]
  },
  {
   "cell_type": "code",
   "execution_count": 75,
   "metadata": {},
   "outputs": [],
   "source": [
    "\"\"\"Create class called person \n",
    "attributes ==> namr, age, city.... [make use to default parameters also]\n",
    "create a method which will show all the info of a person \"\"\"\n",
    "\n",
    "class Person():\n",
    "    def __init__ (self,name,age,city):\n",
    "        self.name = name \n",
    "        self.age = age\n",
    "        self.city = city\n",
    "\n",
    "    def show(self):\n",
    "        print(self.name)\n",
    "\n",
    "    def show(self):\n",
    "        print(self.name,self.age,self.city)"
   ]
  },
  {
   "cell_type": "code",
   "execution_count": 76,
   "metadata": {},
   "outputs": [],
   "source": [
    "name = \"Alpit\"\n",
    "age = 18\n",
    "city = \"Pune\""
   ]
  },
  {
   "cell_type": "code",
   "execution_count": 77,
   "metadata": {},
   "outputs": [
    {
     "name": "stdout",
     "output_type": "stream",
     "text": [
      "Tejya 17 Manjarwadi\n"
     ]
    }
   ],
   "source": [
    "Person1 = Person(\"Tejya\", 17, \"Manjarwadi\")\n",
    "Person1.show()\n"
   ]
  },
  {
   "cell_type": "code",
   "execution_count": 78,
   "metadata": {},
   "outputs": [],
   "source": [
    "\"\"\"Create class called person \n",
    "attributes ==> namr, age, city.... [make use to default parameters also]\n",
    "create a method which will show all the info of a person \"\"\"\n",
    "\n",
    "class Person5():\n",
    "    def __init__ (self, n, a= 25):\n",
    "        self.name = n\n",
    "        self.age = a\n",
    "\n",
    "    def info(self):\n",
    "        print(\"name\",self.name)\n",
    "        print('age',self.age)"
   ]
  },
  {
   "cell_type": "code",
   "execution_count": 81,
   "metadata": {},
   "outputs": [
    {
     "name": "stdout",
     "output_type": "stream",
     "text": [
      "name Alpit\n",
      "age 25\n"
     ]
    }
   ],
   "source": [
    "P1 = Person5(\"Alpit\")\n",
    "\n",
    "P1.info()"
   ]
  }
 ],
 "metadata": {
  "kernelspec": {
   "display_name": "Python 3",
   "language": "python",
   "name": "python3"
  },
  "language_info": {
   "codemirror_mode": {
    "name": "ipython",
    "version": 3
   },
   "file_extension": ".py",
   "mimetype": "text/x-python",
   "name": "python",
   "nbconvert_exporter": "python",
   "pygments_lexer": "ipython3",
   "version": "3.11.8"
  }
 },
 "nbformat": 4,
 "nbformat_minor": 2
}
