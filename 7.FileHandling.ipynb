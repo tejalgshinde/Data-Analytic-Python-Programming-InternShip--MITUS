{
 "cells": [
  {
   "cell_type": "code",
   "execution_count": 2,
   "metadata": {},
   "outputs": [],
   "source": [
    "f = open('maha.txt', 'r')"
   ]
  },
  {
   "cell_type": "code",
   "execution_count": 3,
   "metadata": {},
   "outputs": [
    {
     "name": "stdout",
     "output_type": "stream",
     "text": [
      "maha.txt\n"
     ]
    }
   ],
   "source": [
    "print(f.name)"
   ]
  },
  {
   "cell_type": "code",
   "execution_count": 4,
   "metadata": {},
   "outputs": [
    {
     "name": "stdout",
     "output_type": "stream",
     "text": [
      "What is Python?\n",
      "Python is a popular programming language. It was created by Guido van Rossum, and released in 1991.\n"
     ]
    }
   ],
   "source": [
    "print(f.read())"
   ]
  },
  {
   "cell_type": "code",
   "execution_count": 5,
   "metadata": {},
   "outputs": [],
   "source": [
    "# Open with context manager\n",
    "\n",
    "with open('maha.txt', 'r') as f:\n",
    "    pass"
   ]
  },
  {
   "cell_type": "code",
   "execution_count": 6,
   "metadata": {},
   "outputs": [
    {
     "data": {
      "text/plain": [
       "True"
      ]
     },
     "execution_count": 6,
     "metadata": {},
     "output_type": "execute_result"
    }
   ],
   "source": [
    "f.closed"
   ]
  },
  {
   "cell_type": "code",
   "execution_count": 7,
   "metadata": {},
   "outputs": [
    {
     "name": "stdout",
     "output_type": "stream",
     "text": [
      "What is Python?\n",
      "Python is a popular programming language. It was created by Guido van Rossum, and released in 1991.\n"
     ]
    }
   ],
   "source": [
    "with open('maha.txt', 'r') as f:\n",
    "    content = f.read()\n",
    "    print(content)"
   ]
  },
  {
   "cell_type": "code",
   "execution_count": 8,
   "metadata": {},
   "outputs": [
    {
     "name": "stdout",
     "output_type": "stream",
     "text": [
      "['What is Python?\\n', 'Python is a popular programming language. It was created by Guido van Rossum, and released in 1991.']\n"
     ]
    }
   ],
   "source": [
    "with open('maha.txt', 'r') as f:\n",
    "    content = f.readlines()\n",
    "    print(content)"
   ]
  },
  {
   "cell_type": "markdown",
   "metadata": {},
   "source": []
  },
  {
   "cell_type": "code",
   "execution_count": 9,
   "metadata": {},
   "outputs": [
    {
     "name": "stdout",
     "output_type": "stream",
     "text": [
      "What is Python?\n",
      "\n"
     ]
    }
   ],
   "source": [
    "\n",
    "with open('maha.txt', 'r') as f:\n",
    "    content = f.readline()\n",
    "    print(content)\n"
   ]
  },
  {
   "cell_type": "code",
   "execution_count": 10,
   "metadata": {},
   "outputs": [
    {
     "name": "stdout",
     "output_type": "stream",
     "text": [
      "['What is Python?\\n', 'Python is a popular programming language. It was created by Guido van Rossum, and released in 1991.']"
     ]
    }
   ],
   "source": [
    "with open('maha.txt', 'r') as f:\n",
    "    content = f.readlines()\n",
    "    print(content, end = '')\n",
    "     \n",
    "    #  content = "
   ]
  },
  {
   "cell_type": "code",
   "execution_count": 11,
   "metadata": {},
   "outputs": [
    {
     "name": "stdout",
     "output_type": "stream",
     "text": [
      "What is Python?\n",
      "Python is a popular programming language. It was created by Guido van Rossum, and released in 1991."
     ]
    }
   ],
   "source": [
    "with open('maha.txt', 'r') as f:\n",
    "    for line in f:\n",
    "        print(line, end= '')\n",
    "        \n"
   ]
  },
  {
   "cell_type": "code",
   "execution_count": 12,
   "metadata": {},
   "outputs": [
    {
     "name": "stdout",
     "output_type": "stream",
     "text": [
      "Wh\n"
     ]
    }
   ],
   "source": [
    "with open('maha.txt', 'r') as f:\n",
    "    content = f.read(2)\n",
    "    print(content)"
   ]
  },
  {
   "cell_type": "code",
   "execution_count": 13,
   "metadata": {},
   "outputs": [
    {
     "name": "stdout",
     "output_type": "stream",
     "text": [
      "What *is Py*thon?*\n",
      "Pyth*on is* a po*pular* prog*rammi*ng la*nguag*e. It* was *creat*ed by* Guid*o van* Ross*um, a*nd re*lease*d in *1991.*"
     ]
    }
   ],
   "source": [
    "# use while loop to read enter file....5 characters at a time\n",
    "\n",
    "with open('maha.txt', 'r') as f:\n",
    "    size = 5\n",
    "\n",
    "\n",
    "    content = f.read(size)\n",
    "    while len(content) > 0:\n",
    "        print(content, end = '*')\n",
    "        content = f.read(size)\n",
    "\n",
    "    # f.closed()    "
   ]
  },
  {
   "cell_type": "code",
   "execution_count": 14,
   "metadata": {},
   "outputs": [
    {
     "name": "stdout",
     "output_type": "stream",
     "text": [
      "What \n",
      "What \n"
     ]
    }
   ],
   "source": [
    "with open('maha.txt', 'r') as f:\n",
    "    size = 5   \n",
    "    content = f.read(size)\n",
    "    print(content)\n",
    "\n",
    "    f.seek(0)    #will start from the beggining\n",
    "\n",
    "    content = f.read(size)\n",
    "    print(content)\n"
   ]
  },
  {
   "cell_type": "code",
   "execution_count": 15,
   "metadata": {},
   "outputs": [],
   "source": [
    "with open('tejal.txt', 'w') as w:\n",
    "    w.write('My name is Tejal')\n",
    "    w.seek(0)\n",
    "    w.write('My name is Tanvi')\n",
    "    w.write('AAAA')\n"
   ]
  },
  {
   "cell_type": "code",
   "execution_count": 16,
   "metadata": {},
   "outputs": [],
   "source": [
    "#create a new file which will be the copy of maha.txt\n",
    "\n",
    "with open('maha.txt', 'r') as rf:\n",
    "    with open('maha_copy.txt', 'w') as w:\n",
    "        for line in rf:\n",
    "            w.write(line)"
   ]
  },
  {
   "cell_type": "code",
   "execution_count": 17,
   "metadata": {},
   "outputs": [],
   "source": [
    "# # Image\n",
    "\n",
    "# with open(\"C:\\Users\\alpit\\OneDrive\\Pictures\\b4954420215e2978c665b0c775e600ae.jpg\", 'rb') as f:\n",
    "#     with open('wall_copy', 'wb') as w:\n",
    "#         for line in f:\n",
    "#             w.write(line)\n"
   ]
  },
  {
   "cell_type": "code",
   "execution_count": 18,
   "metadata": {},
   "outputs": [],
   "source": [
    "#Image\n",
    "\n",
    "with open('alpit.jpg', 'rb') as f:\n",
    "    with open('wall_copy', 'wb') as w:\n",
    "        for line in f:\n",
    "            w.write(line)"
   ]
  }
 ],
 "metadata": {
  "kernelspec": {
   "display_name": "Python 3 (ipykernel)",
   "language": "python",
   "name": "python3"
  },
  "language_info": {
   "codemirror_mode": {
    "name": "ipython",
    "version": 3
   },
   "file_extension": ".py",
   "mimetype": "text/x-python",
   "name": "python",
   "nbconvert_exporter": "python",
   "pygments_lexer": "ipython3",
   "version": "3.11.8"
  }
 },
 "nbformat": 4,
 "nbformat_minor": 4
}
